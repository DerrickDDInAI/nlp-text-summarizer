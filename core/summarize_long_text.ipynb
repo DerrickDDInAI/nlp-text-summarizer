{
 "metadata": {
  "language_info": {
   "codemirror_mode": {
    "name": "ipython",
    "version": 3
   },
   "file_extension": ".py",
   "mimetype": "text/x-python",
   "name": "python",
   "nbconvert_exporter": "python",
   "pygments_lexer": "ipython3",
   "version": "3.9.4-final"
  },
  "orig_nbformat": 2,
  "kernelspec": {
   "name": "python3",
   "display_name": "Python 3",
   "language": "python"
  }
 },
 "nbformat": 4,
 "nbformat_minor": 2,
 "cells": [
  {
   "source": [
    "# Import"
   ],
   "cell_type": "markdown",
   "metadata": {}
  },
  {
   "cell_type": "code",
   "execution_count": 3,
   "metadata": {},
   "outputs": [],
   "source": [
    "# import internal modules\n",
    "import re\n",
    "import requests\n",
    "import time\n",
    "\n",
    "# import 3rd-party modules\n",
    "from bs4 import BeautifulSoup as bs\n",
    "import pandas as pd\n",
    "\n",
    "# import local modules"
   ]
  },
  {
   "source": [
    "# Load book"
   ],
   "cell_type": "markdown",
   "metadata": {}
  },
  {
   "cell_type": "code",
   "execution_count": 4,
   "metadata": {},
   "outputs": [
    {
     "output_type": "stream",
     "name": "stdout",
     "text": [
      "https://www.gutenberg.org/files/103/103-h/103-h.htm 200\n"
     ]
    },
    {
     "output_type": "execute_result",
     "data": {
      "text/plain": [
       "'\\r\\nIN WHICH PHILEAS FOGG AND PASSEPARTOUT ACCEPT EACH OTHER, \\r\\nTHE ONE AS\\r\\nMASTER, THE OTHER AS MAN\\r\\n \\r\\nMr. Phileas Fogg lived, in 1872, at No. 7, Saville Row, Burlington\\r\\nGardens, the house in which Sheridan died in 1814.  He was one of the\\r\\nmost noticeable members of the Reform Club, though he seemed always to\\r\\navoid attracting attention; an enigmatical personage, about whom little\\r\\nwas known, except that he was a polished man of the world.  People said\\r\\nthat he resembled Byron—at least that his head was Byronic; but he was\\r\\na bearded, tranquil Byron, who might live on a thousand years without\\r\\ngrowing old.\\r\\n \\r\\nCertainly an Englishman, it was more doubtful whether Phileas Fogg was\\r\\na Londoner.  He was never seen on \\'Change, nor at the Bank, nor in the\\r\\ncounting-rooms of the \"City\"; no ships ever came into London docks of\\r\\nwhich he was the owner; he had no public employment; he had never been\\r\\nentered at any of the Inns of Court, either at the Temple, or Lincoln\\'s\\r\\nInn, or Gray\\'s Inn; '"
      ]
     },
     "metadata": {},
     "execution_count": 4
    }
   ],
   "source": [
    "# book html link\n",
    "# book_text_link = \"https://www.gutenberg.org/cache/epub/103/pg103.txt\"\n",
    "book_html_link = \"https://www.gutenberg.org/files/103/103-h/103-h.htm\"\n",
    "\n",
    "# scrape book page\n",
    "response = requests.get(book_html_link)\n",
    "print(book_html_link, response.status_code)\n",
    "\n",
    "# scrape\n",
    "soup = bs(response.text, 'html.parser')\n",
    "results = soup.find_all(['h4', 'p'])\n",
    "text = [result.text for result in results]\n",
    "book = ' '.join(text)\n",
    "book[:1000]"
   ]
  },
  {
   "cell_type": "code",
   "execution_count": 4,
   "metadata": {},
   "outputs": [
    {
     "output_type": "stream",
     "name": "stdout",
     "text": [
      "\nIN WHICH PHILEAS FOGG AND PASSEPARTOUT ACCEPT EACH OTHER, \nTHE ONE AS\nMASTER, THE OTHER AS MAN\n \nMr. Phileas Fogg lived, in 1872, at No. 7, Saville Row, Burlington\nGardens, the house in which Sheridan died in 1814.  He was one of the\nmost noticeable members of the Reform Club, though he seemed always to\navoid attracting attention; an enigmatical personage, about whom little\nwas known, except that he was a polished man of the world.  People said\nthat he resembled Byron—at least that his head was Byronic; but he was\na bearded, tranquil Byron, who might live on a thousand years without\ngrowing old.\n \nCertainly an Englishman, it was more doubtful whether Phileas Fogg was\na Londoner.  He was never seen on 'Change, nor at the Bank, nor in the\ncounting-rooms of the \"City\"; no ships ever came into London docks of\nwhich he was the owner; he had no public employment; he had never been\nentered at any of the Inns of Court, either at the Temple, or Lincoln's\nInn, or Gray's Inn; \n"
     ]
    }
   ],
   "source": [
    "print(book[:1000])"
   ]
  },
  {
   "source": [
    "# Prepare book for summarization"
   ],
   "cell_type": "markdown",
   "metadata": {}
  },
  {
   "cell_type": "code",
   "execution_count": 9,
   "metadata": {},
   "outputs": [
    {
     "output_type": "stream",
     "name": "stdout",
     "text": [
      "\n\n\n\n\n\n\n\n\n\n\n\n\n\nAROUND THE WORLD IN EIGHTY DAYS\n\n\n\nCONTENTS\n\n\nCHAPTER\n\n      I  IN WHICH PHILEAS FOGG AND PASSEPARTOUT ACCEPT EACH OTHER, THE\n         ONE AS MASTER, THE OTHER AS MAN\n\n     II  IN WHICH PASSEPARTOUT IS CONVINCED THAT HE HAS AT LAST FOUND\n         HIS IDEAL\n\n    III  IN WHICH A CONVERSATION TAKES PLACE WHICH SEEMS LIKELY TO COST\n         PHILEAS FOGG DEAR\n\n     IV  IN WHICH PHILEAS FOGG ASTOUNDS PASSEPARTOUT, HIS SERVANT\n\n      V  IN WHICH A NEW SPECIES OF FUND\n"
     ]
    }
   ],
   "source": [
    "# find index position where metadata from website ends\n",
    "metadata_end_idx = book.rfind(\"***\",0,1000)\n",
    "book_text = book[metadata_end_idx + 3:]\n",
    "print(book_text[: 512])"
   ]
  },
  {
   "source": [
    "# Summarize book\n",
    "## with Bart transformers"
   ],
   "cell_type": "markdown",
   "metadata": {}
  },
  {
   "cell_type": "code",
   "execution_count": 10,
   "metadata": {
    "tags": []
   },
   "outputs": [
    {
     "output_type": "stream",
     "name": "stderr",
     "text": [
      "Token indices sequence length is longer than the specified maximum sequence length for this model (24793 > 1024). Running this sequence through the model will result in indexing errors\n",
      "Phileas Fogg lived, in 1872, at No. 7, Saville Row, Burlington. He was not known to have either wife or children, which may have been fixed, in the same room, at the same\n",
      "\"I'd like to see you do it in eighty days,\" said Phileas Fogg. \"Deal over again, then,\" said Stuart Sydenham. \"I have a strange way of proving that the unforeseen does not exist\n",
      "Phileas Fogg, the bank robber, was sent to find a steamer to take him to the New World. The journey would take ten years, and would take him from Suez to Aden, at the other end of\n",
      "Passepartout, who lived a solitary existence in London, was said to be rich, though no wealthier than Phileas Fogg. He was on a pretended tour of the world, pretending to make the tour in eighty days\n",
      "Phileas Fogg was travelling around the world in eighty days. His whist partner Passepartout followed him on the journey. The train stopped at eight o'clock, but Passe partout refused to alter his watch.\n",
      "Phileas Fogg and Sir Francis Cromarty were travelling from Bombay to Calcutta. Mr. Fogg hired an Indian guide to help him with the journey. The guide, Passepartout, was a scoundrel\n",
      "Phileas Fogg, Sir Francis Cromarty, and Passepartout set out to save a woman in India. They waited till midnight, but no change took place among the guards. The hours passed, and the lighter shades\n",
      "Phileas Fogg, Aouda, and Passepartout were taken to a palkigahri in Calcutta. They were accused of having violated a law which forbade them to travel on trains from Bombay\n",
      "Passepartout wager of twenty thousand pounds lost, because he, like a self-composed man, did not in the least understand what he was doing. Fix made up his mind that, if worst came to worst,\n",
      "Passepartout followed Phileas Fogg and Aouda through Hong Kong. Fix, who suspected Mr. Fogg's every movement, followed them cautiously. Passepartout, enchanted with his discovery, resolved to say\n",
      "Passepartout was enraged beyond expression by the unpropitious weather. The Carnatic was announced to leave Hong Kong at five the next morning. Passepartout remained on deck as long as the tempest lasted, being\n",
      "Passepartout was especially merry at the idea that Fix was going to continue it with them. Fix caught him by the arm, and said, \"Wait a moment\" \"A serious talk!\" cried Passepartout, drinking\n",
      "Phileas Fogg and Aouda went on board the \"Tankadere\" to find Passepartout. The pilot, Fix, was stupefied by Fogg's kindness. Mr. Fogg would\n",
      "Phileas Fogg was due to sail from Hong Kong on a steamer with John Bunsby. The steamer, the Carnatic, was chartered by Fogg's friend, Phileas Passepartout.\n",
      "Passepartout was chosen to take Phileas Fogg's place on the American steamer Carnatic. Fogg applied in vain to the French and English consuls. Passepartout learned from Aouda, who\n",
      "Mr. Fogg, accompanied by Aouda, started for the United States on the 3rd of December. He met Fix, who asked him if it would not be well, before taking him to San Francisco. Mr. F\n",
      "ICH PHileas Fogg and his party travelled by the PACIFIC RAILROAD. The road, running along the Humboldt River, passed an insurmountable obstacle to the passage of the trains. Thousands of trains\n",
      "The train had stopped before a red signal which blocked the way. The station-master at Medicine Bow, the next stopping place, had sent the signal-man. The train pursued its course, without interruption, until it had passed over\n",
      "Phileas Fogg left the car, and the American followed him upon the train. Colonel Proctor and Mr. Fogg, revolvers in hand, tried to stop the train, but not knowing how to work the regulator,\n",
      "Phileas Fogg and the squad had gone southward; they perceived a little band returning in the direction of Fort Kearney. Mr. Fogg was marching at their head, and just behind him were two travellers, rescued from\n",
      "Phileas Fogg, Esquire, had taken passage for Bordeaux, and, during the. thirty hours he was in command, asked Captain Speedy why the. Fogg was in charge instead of him. Captain Spe\n",
      "Phileas Fogg and Andrew Speedy set sail from Dublin on a steamer to London. Fogg left the hull and engine to Captain Speedy, who pocketed the money. The captain left the vessel on the spot,\n",
      "Phileas Fogg, having stimulated the engineer by the offer of a generous reward, at last set out towards London with Aouda and his friend Fix. The journey took five hours and a half, and when Mr. F\n",
      "Phileas Fogg's name was once more at a premium on 'Change' His five friends of the Reform Club passed these three days in a state of state. The time agreed upon between Mr. Fogg and ourselves will have\n",
      "Phileas Fogg had won his wager, and had made his journey around the world. The marriage took place forty-eight hours after Passepartout gave the bride her name. The young woman was called Aouda\n"
     ]
    }
   ],
   "source": [
    "from transformers import BartTokenizer, BartForConditionalGeneration\n",
    "import torch\n",
    "\n",
    "model = BartForConditionalGeneration.from_pretrained('facebook/bart-large-cnn')\n",
    "tokenizer = BartTokenizer.from_pretrained('facebook/bart-large-cnn')\n",
    "\n",
    "# tokenize without truncation\n",
    "inputs_no_trunc = tokenizer(summary, max_length=None, return_tensors='pt', truncation=False)\n",
    "\n",
    "# get batches of tokens corresponding to the exact model_max_length\n",
    "chunk_start = 0\n",
    "chunk_end = tokenizer.model_max_length  # == 1024 for Bart\n",
    "inputs_batch_lst = []\n",
    "while chunk_start <= len(inputs_no_trunc['input_ids'][0]):\n",
    "    inputs_batch = inputs_no_trunc['input_ids'][0][chunk_start:chunk_end]  # get batch of n tokens\n",
    "    inputs_batch = torch.unsqueeze(inputs_batch, 0)\n",
    "    inputs_batch_lst.append(inputs_batch)\n",
    "    chunk_start += tokenizer.model_max_length  # == 1024 for Bart\n",
    "    chunk_end += tokenizer.model_max_length  # == 1024 for Bart\n",
    "\n",
    "# generate a summary on each batch\n",
    "summary_ids_lst = [model.generate(inputs, num_beams=4, max_length=50, early_stopping=True) for inputs in inputs_batch_lst]\n",
    "\n",
    "# decode the output and join into one string with one paragraph per summary batch\n",
    "summary_batch_lst = []\n",
    "for summary_id in summary_ids_lst:\n",
    "    summary_batch = [tokenizer.decode(g, skip_special_tokens=True, clean_up_tokenization_spaces=False) for g in summary_id]\n",
    "    summary_batch_lst.append(summary_batch[0])\n",
    "summary_all = '\\n'.join(summary_batch_lst)\n",
    "\n",
    "print(summary_all)"
   ]
  },
  {
   "cell_type": "code",
   "execution_count": 13,
   "metadata": {},
   "outputs": [],
   "source": [
    "with open(\"summary_of_summary_around_the_world.txt\", \"w\") as file:\n",
    "    file.write(summary_all)"
   ]
  },
  {
   "source": [
    "from gensim.summarization import summarize"
   ],
   "cell_type": "code",
   "metadata": {},
   "execution_count": 1,
   "outputs": []
  },
  {
   "cell_type": "code",
   "execution_count": 6,
   "metadata": {},
   "outputs": [
    {
     "output_type": "stream",
     "name": "stdout",
     "text": [
      "\nTime to summarize: 34.14 seconds\n"
     ]
    }
   ],
   "source": [
    "    # With gensim\n",
    "\n",
    "    # start timer\n",
    "    start_time = time.time()\n",
    "\n",
    "    # pass text corpus to summarizer\n",
    "    summary = summarize(book)\n",
    "\n",
    "    # stop timer and compute the execution time\n",
    "    end_time = time.time()\n",
    "    diff_time = (end_time - start_time)\n",
    "    print(f\"\\nTime to summarize: {diff_time:.2f} seconds\")\n",
    "    \n",
    "    # export to txt file\n",
    "    with open(\"extractive_summary_around_the_world.txt\", \"w\") as file:\n",
    "        file.write(summary)"
   ]
  }
 ]
}