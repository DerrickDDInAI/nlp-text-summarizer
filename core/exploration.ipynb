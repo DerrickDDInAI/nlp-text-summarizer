{
 "metadata": {
  "language_info": {
   "codemirror_mode": {
    "name": "ipython",
    "version": 3
   },
   "file_extension": ".py",
   "mimetype": "text/x-python",
   "name": "python",
   "nbconvert_exporter": "python",
   "pygments_lexer": "ipython3",
   "version": "3.9.4-final"
  },
  "orig_nbformat": 2,
  "kernelspec": {
   "name": "python3",
   "display_name": "Python 3",
   "language": "python"
  }
 },
 "nbformat": 4,
 "nbformat_minor": 2,
 "cells": [
  {
   "source": [
    "# Text summarization\n",
    "with Hugging Face Transformers"
   ],
   "cell_type": "markdown",
   "metadata": {}
  },
  {
   "cell_type": "code",
   "execution_count": null,
   "metadata": {},
   "outputs": [],
   "source": [
    "# To install the library in jupyter notebook environment\n",
    "#!pip install transformers"
   ]
  },
  {
   "source": [
    "## Import"
   ],
   "cell_type": "markdown",
   "metadata": {}
  },
  {
   "cell_type": "code",
   "execution_count": 79,
   "metadata": {},
   "outputs": [
    {
     "output_type": "error",
     "ename": "ModuleNotFoundError",
     "evalue": "No module named 'transformers'",
     "traceback": [
      "\u001b[0;31m---------------------------------------------------------------------------\u001b[0m",
      "\u001b[0;31mModuleNotFoundError\u001b[0m                       Traceback (most recent call last)",
      "\u001b[0;32m<ipython-input-79-69a9fd07ccac>\u001b[0m in \u001b[0;36m<module>\u001b[0;34m\u001b[0m\n\u001b[0;32m----> 1\u001b[0;31m \u001b[0;32mfrom\u001b[0m \u001b[0mtransformers\u001b[0m \u001b[0;32mimport\u001b[0m \u001b[0mpipeline\u001b[0m\u001b[0;34m\u001b[0m\u001b[0;34m\u001b[0m\u001b[0m\n\u001b[0m",
      "\u001b[0;31mModuleNotFoundError\u001b[0m: No module named 'transformers'"
     ]
    }
   ],
   "source": [
    "from transformers import pipeline"
   ]
  },
  {
   "source": [
    "## Load summarization pipeline"
   ],
   "cell_type": "markdown",
   "metadata": {}
  },
  {
   "cell_type": "code",
   "execution_count": 17,
   "metadata": {},
   "outputs": [],
   "source": [
    "# load pre-trained summarization pipeline\n",
    "summarizer = pipeline(\"summarization\")"
   ]
  },
  {
   "cell_type": "code",
   "execution_count": 3,
   "metadata": {},
   "outputs": [],
   "source": [
    "chapter = \"\"\"\n",
    "Judicial space\n",
    "Regarding space,\n",
    "Bruno Dayez carries out a topographical analysis of the trial which allows us to highlight several characteristics:\n",
    "First, \"the trial takes place in a defined, unchanging and closed place: the courtroom \", which is itself located within the courthouse, which at first glance makes us think of an imposing and austere temple where we have the impression that we are not necessarily welcome and that there is it's not good to live, while for my part, I can assure you that we have very good times.\n",
    "Therefore, the place where the trial takes place is separate from the ordinary world, \"the justice is a particular, autonomous operation that requires its detachment from the everyday world. \"\n",
    "\n",
    "It is therefore a space separated from the secular space of the city.\n",
    "Regarding the publicity of the audiences, these cannot be filmed\n",
    "and disseminated (except for trials of historical interest by\n",
    "example). When the trial takes place at the last instance, it must\n",
    "putting a definitive end to the conflict is what sets it apart from\n",
    "the gear of private revenge.\n",
    "\n",
    "Indeed, imagine it is broadcast on television, it would be subject to\n",
    "recurrent manner in democratic debate, which would be an obstacle to its\n",
    "essential function of social pacification: \"Res judicata pro veritate\n",
    "habetur, \"the saying goes,\" Res judicata is held to be truth. \"\n",
    "So \"except for the few palate rats baited by the smell of\n",
    "sentence \", of which I am a part, are present at the hearing only those who\n",
    "are summoned to appear there. And it is the press that delivers the only echo of what is happening\n",
    "weft within the walls of the palace.\n",
    "Then, concerning the interior space of the trial, it is divided into\n",
    "regions.\n",
    "Each speaker occupies a limited space, it defines the status\n",
    "even of the speaker, the precise role he must fulfill. \"It is forbidden to\n",
    "put in the place of others because this substitution would risk throwing the\n",
    "confusion in the artificial world of the trial. \"\n",
    "\n",
    "Like the auditorium, the courtroom has two differentiated spaces, the separation of which\n",
    "can be materialized by a barrier, a rope or simply a\n",
    "empty space. One, with benches, is for the public and the other for the stage\n",
    "judicial proper.\n",
    "The space is organized symmetrically on either side of the president,\n",
    "whose chair is often slightly raised. The president is surrounded\n",
    "assessors. Then, at the ends, we find the clerk on one side and the\n",
    "the public prosecutor of the other (or the attorney general if the case falls within the jurisdiction of the seats).\n",
    "\n",
    "So, in general, the public prosecutor is at the same level as the court.\n",
    "The question then arises of the balance of power in the spatial organization of the\n",
    "trial and in particular the asymmetrical position of the prosecutor and the lawyer\n",
    "in relation to the judge. This geographical proximity between the prosecutor and the\n",
    "judge could lead one to believe that the rights of the defense and the necessities of\n",
    "repression are not on an equal footing. And finally, always separated\n",
    "of the public, is the bar where witnesses come to testify, \"the past in\n",
    "flashback \" to use the good word of Master Vergès. And then, on both sides\n",
    "on the other hand, the benches reserved for the accused and his lawyer are distributed, and those\n",
    "reserved for the victim and his lawyer. \"The compartmentalisation of the actors\n",
    "therefore already freezes in the personification of an action: accusing, defending, judging\n",
    "or be judged. \"\n",
    "\n",
    "We can also add that in addition to the very precise function assigned to each\n",
    "actor, the dress, that is to say the dressing, also makes it possible to better identify\n",
    "the various protagonists of the judicial scene.\n",
    "Antoine Garapon assigns him three main functions. A first\n",
    "function of purification, it purifies the ordinary person before this one\n",
    "exercise its institutional role. Here too, there is a desire to mark the\n",
    "break between life and trial. Then, it aims to protect the\n",
    "person who is about to perform the function which is proper to him, in him\n",
    "conferring a feeling of superiority which will release it from violence\n",
    "legitimate which it is called upon to exercise. And finally, it allows to signify the\n",
    "victory of the appearing over the being, of the character over the person, of\n",
    "the institution on the person. Antoine Garapon says it very rightly: \"the dress\n",
    "allows, for the wearer, identification with his character.\n",
    "Contrary to the saying, in the trial it is the dress that makes the judge,\n",
    "the lawyer and the prosecutor.\"\n",
    "\"\"\""
   ]
  },
  {
   "cell_type": "code",
   "execution_count": 19,
   "metadata": {},
   "outputs": [
    {
     "output_type": "execute_result",
     "data": {
      "text/plain": [
       "[{'summary_text': ' Bruno Dayez says the trial takes place in a defined, unchanging and closed place: the courtroom . The space is organized symmetrically on either side of the president, the clerk and the public prosecutor of the other . Each speaker occupies a limited space, it defines the status of the speaker, the precise role he must fulfill . The public prosecutor is at the same level as the court .'}]"
      ]
     },
     "metadata": {},
     "execution_count": 19
    }
   ],
   "source": [
    "# Summarize in a text of minimum 30 words and max 130 words\n",
    "# do_sample False to use a greedi decoder: to return a sequence with next word that has a high probability of making sense\n",
    "summarizer(chapter, max_length=130, min_length=30, do_sample=False)"
   ]
  },
  {
   "cell_type": "code",
   "execution_count": 1,
   "metadata": {},
   "outputs": [],
   "source": [
    "import re\n",
    "import requests\n",
    "import time\n",
    "import random\n",
    "\n",
    "# from selenium import webdriver\n",
    "from bs4 import BeautifulSoup as bs\n",
    "import pandas as pd"
   ]
  },
  {
   "source": [
    "## Functions"
   ],
   "cell_type": "markdown",
   "metadata": {}
  },
  {
   "cell_type": "code",
   "execution_count": 2,
   "metadata": {},
   "outputs": [],
   "source": [
    "def download_page(url):\n",
    "    \"\"\"\n",
    "    Function to \n",
    "    - download page \n",
    "    - and parse it with BeautifulSoup\n",
    "    \"\"\"\n",
    "    # download page\n",
    "    response = requests.get(url)\n",
    "    print(url, response.status_code)\n",
    "    \n",
    "    # parse page\n",
    "    soup = bs(response.content, features=\"lxml\")\n",
    "\n",
    "    return soup\n",
    "\n",
    "\n",
    "def get_book_links(soup, base_url) -> pd.DataFrame:\n",
    "    \"\"\"\n",
    "    Function to get links of the first 25 books \n",
    "    from search page\n",
    "    \"\"\"\n",
    "    # create empty dataframe\n",
    "    cols = [\"title\", \"author\", \"link\", \"cover_img_link\", \"book_id\"]\n",
    "    books_df = pd.DataFrame(columns=cols)\n",
    "\n",
    "    # scrape info\n",
    "    for rank, element in enumerate(soup.find_all(\"li\", attrs={\"class\": \"booklink\"}), start=1):\n",
    "        title = element.find(\"span\", attrs={\"class\": \"title\"}).text\n",
    "        author = element.find(\"span\", attrs={\"class\": \"subtitle\"}).text\n",
    "        link = base_url + element.find(\"a\", attrs={\"class\": \"link\"}).get(\"href\")\n",
    "        cover_img_link = base_url + element.find(\"img\", attrs={\"class\": \"cover-thumb\"}).get(\"src\")\n",
    "        book_id = re.findall(r\"\\d+\", link)[0]\n",
    "        # utf_8_txt_link = f\"{base_url}/files/{book_id}/{book_id}-0.txt\"\n",
    "        books_df.loc[rank] = [title, author, link, cover_img_link, book_id]\n",
    "        \n",
    "    return books_df\n",
    "\n",
    "def get_book_text(link, base_url):\n",
    "    \"\"\"\n",
    "    Function to get book text in plain text UTF-8\n",
    "    \"\"\"\n",
    "    # download book page\n",
    "    soup = download_page(link)\n",
    "\n",
    "    # scrape book text link\n",
    "    book_text_link = base_url + soup.find(\"a\", attrs={\"class\": \"link\", \"type\": \"text/plain\"}).get(\"href\")\n",
    "\n",
    "    # slow down requests frequency to avoid IP ban\n",
    "    time.sleep(random.uniform(2.0, 3.0))\n",
    "\n",
    "    # download book text page\n",
    "    response = requests.get(book_text_link)\n",
    "    print(book_text_link, response.status_code)\n",
    "    \n",
    "    # return book text\n",
    "    return response.text"
   ]
  },
  {
   "cell_type": "code",
   "execution_count": null,
   "metadata": {},
   "outputs": [],
   "source": [
    "# define base url for links\n",
    "base_url = \"https://www.gutenberg.org\"\n",
    "\n",
    "# download page of most popular books\n",
    "url='https://www.gutenberg.org/ebooks/search/?sort_order=downloads'\n",
    "soup = download_page(url)"
   ]
  },
  {
   "cell_type": "code",
   "execution_count": 39,
   "metadata": {},
   "outputs": [
    {
     "output_type": "stream",
     "name": "stdout",
     "text": [
      "https://www.gutenberg.org/ebooks/search/?query=asimov 200\n"
     ]
    }
   ],
   "source": [
    "# input search query\n",
    "search = input(\"search for books, authors, genre, ...\")\n",
    "\n",
    "# prepare search query url in required format\n",
    "search_book_url = \"https://www.gutenberg.org/ebooks/search/?query=\"\n",
    "search_book_url += \"+\".join(search.split(\" \"))\n",
    "\n",
    "# download page\n",
    "soup = download_page(url)"
   ]
  },
  {
   "cell_type": "code",
   "execution_count": 42,
   "metadata": {},
   "outputs": [
    {
     "output_type": "execute_result",
     "data": {
      "text/plain": [
       "                                               title  \\\n",
       "1                                              Youth   \n",
       "2  Worlds Within Worlds: The Story of Nuclear Ene...   \n",
       "3                       100 New Yorkers of the 1970s   \n",
       "4  Worlds Within Worlds: The Story of Nuclear Ene...   \n",
       "5                   The Genetic Effects of Radiation   \n",
       "6  Worlds Within Worlds: The Story of Nuclear Ene...   \n",
       "\n",
       "                                   author  \\\n",
       "1                            Isaac Asimov   \n",
       "2                            Isaac Asimov   \n",
       "3                             Max Millard   \n",
       "4                            Isaac Asimov   \n",
       "5  Isaac Asimov and Theodosius Dobzhansky   \n",
       "6                            Isaac Asimov   \n",
       "\n",
       "                                     link  \\\n",
       "1  https://www.gutenberg.org/ebooks/31547   \n",
       "2  https://www.gutenberg.org/ebooks/49819   \n",
       "3  https://www.gutenberg.org/ebooks/17385   \n",
       "4  https://www.gutenberg.org/ebooks/49821   \n",
       "5  https://www.gutenberg.org/ebooks/55738   \n",
       "6  https://www.gutenberg.org/ebooks/49820   \n",
       "\n",
       "                                      cover_img_link  \\\n",
       "1  https://www.gutenberg.org/cache/epub/31547/pg3...   \n",
       "2  https://www.gutenberg.org/cache/epub/49819/pg4...   \n",
       "3  https://www.gutenberg.org/cache/epub/17385/pg1...   \n",
       "4  https://www.gutenberg.org/cache/epub/49821/pg4...   \n",
       "5  https://www.gutenberg.org/cache/epub/55738/pg5...   \n",
       "6  https://www.gutenberg.org/cache/epub/49820/pg4...   \n",
       "\n",
       "                                      utf_8_txt_link  \n",
       "1  https://www.gutenberg.org/files/31547/31547-0.txt  \n",
       "2  https://www.gutenberg.org/files/49819/49819-0.txt  \n",
       "3  https://www.gutenberg.org/files/17385/17385-0.txt  \n",
       "4  https://www.gutenberg.org/files/49821/49821-0.txt  \n",
       "5  https://www.gutenberg.org/files/55738/55738-0.txt  \n",
       "6  https://www.gutenberg.org/files/49820/49820-0.txt  "
      ],
      "text/html": "<div>\n<style scoped>\n    .dataframe tbody tr th:only-of-type {\n        vertical-align: middle;\n    }\n\n    .dataframe tbody tr th {\n        vertical-align: top;\n    }\n\n    .dataframe thead th {\n        text-align: right;\n    }\n</style>\n<table border=\"1\" class=\"dataframe\">\n  <thead>\n    <tr style=\"text-align: right;\">\n      <th></th>\n      <th>title</th>\n      <th>author</th>\n      <th>link</th>\n      <th>cover_img_link</th>\n      <th>utf_8_txt_link</th>\n    </tr>\n  </thead>\n  <tbody>\n    <tr>\n      <th>1</th>\n      <td>Youth</td>\n      <td>Isaac Asimov</td>\n      <td>https://www.gutenberg.org/ebooks/31547</td>\n      <td>https://www.gutenberg.org/cache/epub/31547/pg3...</td>\n      <td>https://www.gutenberg.org/files/31547/31547-0.txt</td>\n    </tr>\n    <tr>\n      <th>2</th>\n      <td>Worlds Within Worlds: The Story of Nuclear Ene...</td>\n      <td>Isaac Asimov</td>\n      <td>https://www.gutenberg.org/ebooks/49819</td>\n      <td>https://www.gutenberg.org/cache/epub/49819/pg4...</td>\n      <td>https://www.gutenberg.org/files/49819/49819-0.txt</td>\n    </tr>\n    <tr>\n      <th>3</th>\n      <td>100 New Yorkers of the 1970s</td>\n      <td>Max Millard</td>\n      <td>https://www.gutenberg.org/ebooks/17385</td>\n      <td>https://www.gutenberg.org/cache/epub/17385/pg1...</td>\n      <td>https://www.gutenberg.org/files/17385/17385-0.txt</td>\n    </tr>\n    <tr>\n      <th>4</th>\n      <td>Worlds Within Worlds: The Story of Nuclear Ene...</td>\n      <td>Isaac Asimov</td>\n      <td>https://www.gutenberg.org/ebooks/49821</td>\n      <td>https://www.gutenberg.org/cache/epub/49821/pg4...</td>\n      <td>https://www.gutenberg.org/files/49821/49821-0.txt</td>\n    </tr>\n    <tr>\n      <th>5</th>\n      <td>The Genetic Effects of Radiation</td>\n      <td>Isaac Asimov and Theodosius Dobzhansky</td>\n      <td>https://www.gutenberg.org/ebooks/55738</td>\n      <td>https://www.gutenberg.org/cache/epub/55738/pg5...</td>\n      <td>https://www.gutenberg.org/files/55738/55738-0.txt</td>\n    </tr>\n    <tr>\n      <th>6</th>\n      <td>Worlds Within Worlds: The Story of Nuclear Ene...</td>\n      <td>Isaac Asimov</td>\n      <td>https://www.gutenberg.org/ebooks/49820</td>\n      <td>https://www.gutenberg.org/cache/epub/49820/pg4...</td>\n      <td>https://www.gutenberg.org/files/49820/49820-0.txt</td>\n    </tr>\n  </tbody>\n</table>\n</div>"
     },
     "metadata": {},
     "execution_count": 42
    }
   ],
   "source": [
    "search_df = get_book_links(soup)\n",
    "search_df"
   ]
  },
  {
   "cell_type": "code",
   "execution_count": 3,
   "metadata": {},
   "outputs": [
    {
     "output_type": "stream",
     "name": "stdout",
     "text": [
      "https://www.gutenberg.org/ebooks/31547 200\n",
      "https://www.gutenberg.org/ebooks/31547.txt.utf-8 200\n"
     ]
    }
   ],
   "source": [
    "# define base url for links\n",
    "base_url = \"https://www.gutenberg.org\"\n",
    "# book_link = search_df.loc[1, \"link\"]\n",
    "# book_text = get_book_text(book_link, base_url)\n",
    "book_text = get_book_text(\"https://www.gutenberg.org/ebooks/31547\", base_url)"
   ]
  },
  {
   "cell_type": "code",
   "execution_count": 16,
   "metadata": {},
   "outputs": [
    {
     "output_type": "stream",
     "name": "stdout",
     "text": [
      "﻿The Project Gutenberg EBook of Youth, by Isaac Asimov\n\nThis eBook is for the use of anyone anywhere at no cost and with\nalmost no restrictions whatsoever.  You may copy it, give it away or\nre-use it under the terms of the Project Gutenberg License included\nwith this eBook or online at www.gutenberg.org\n\n\nTitle: Youth\n\nAuthor: Isaac Asimov\n\nIllustrator: Schecterson\n\nRelease Date: March 7, 2010 [EBook #31547]\n[Last updated: February 22, 2012]\n\nLanguage: English\n\n\n*** START OF THIS PROJECT GUTENBERG EBOOK YOUTH ***\n\n\n\n\nProduced by Greg Weeks, Stephen Blundell and the Online\nDistributed Proofreading Team at https://www.pgdp.net\n\n\n\n\n\n\n\n\n\nYOUTH\n\n_by_ ISAAC ASIMOV\n\n\n    Red and Slim found the two strange little animals the morning after\n    they heard the thunder sounds. They knew that they could never show\n    their new pets to their parents.\n\n\n[Illustration]\n\n\nThere was a spatter of pebbles against the window and the youngster\nstirred in hi\n"
     ]
    }
   ],
   "source": [
    "print(book_text[:1000])"
   ]
  },
  {
   "cell_type": "code",
   "execution_count": 4,
   "metadata": {},
   "outputs": [],
   "source": [
    "# find index position where metadata from website ends\n",
    "metadata_end_idx = book_text.rfind(\"***\",0,1000)"
   ]
  },
  {
   "cell_type": "code",
   "execution_count": 76,
   "metadata": {},
   "outputs": [
    {
     "output_type": "execute_result",
     "data": {
      "text/plain": [
       "'***\\r\\n\\r\\n\\r\\n\\r\\n\\r\\nProduced by Greg Weeks, Stephen Blundell and the Online\\r\\nDistributed Proofreading Team at https://www.pgdp.net\\r\\n\\r\\n\\r\\n\\r\\n\\r\\n\\r\\n\\r\\n\\r\\n\\r\\n\\r\\nYOUTH\\r\\n\\r\\n_by_ ISAAC ASIMOV\\r\\n\\r\\n\\r\\n    Red and Slim found the two strange little animals the morning after\\r\\n    they heard th'"
      ]
     },
     "metadata": {},
     "execution_count": 76
    }
   ],
   "source": [
    "book_text[metadata_end_idx: 1000]"
   ]
  },
  {
   "cell_type": "code",
   "execution_count": 77,
   "metadata": {},
   "outputs": [
    {
     "output_type": "execute_result",
     "data": {
      "text/plain": [
       "78716"
      ]
     },
     "metadata": {},
     "execution_count": 77
    }
   ],
   "source": [
    "len(book_text)"
   ]
  },
  {
   "cell_type": "code",
   "execution_count": 6,
   "metadata": {},
   "outputs": [],
   "source": [
    "from transformers import AutoTokenizer, AutoModelForSeq2SeqLM, pipeline\n",
    "  \n",
    "tokenizer = AutoTokenizer.from_pretrained(\"facebook/bart-large-xsum\")\n",
    "\n",
    "model = AutoModelForSeq2SeqLM.from_pretrained(\"facebook/bart-large-xsum\")"
   ]
  },
  {
   "cell_type": "code",
   "execution_count": 5,
   "metadata": {},
   "outputs": [
    {
     "output_type": "error",
     "ename": "NameError",
     "evalue": "name 'model' is not defined",
     "traceback": [
      "\u001b[0;31m---------------------------------------------------------------------------\u001b[0m",
      "\u001b[0;31mNameError\u001b[0m                                 Traceback (most recent call last)",
      "\u001b[0;32m<ipython-input-5-b784d75e93d4>\u001b[0m in \u001b[0;36m<module>\u001b[0;34m\u001b[0m\n\u001b[1;32m      1\u001b[0m \u001b[0;32mfrom\u001b[0m \u001b[0mtransformers\u001b[0m \u001b[0;32mimport\u001b[0m \u001b[0mpipeline\u001b[0m\u001b[0;34m\u001b[0m\u001b[0;34m\u001b[0m\u001b[0m\n\u001b[0;32m----> 2\u001b[0;31m \u001b[0msummarizer\u001b[0m \u001b[0;34m=\u001b[0m \u001b[0mpipeline\u001b[0m\u001b[0;34m(\u001b[0m\u001b[0;34m\"summarization\"\u001b[0m\u001b[0;34m,\u001b[0m \u001b[0mmodel\u001b[0m\u001b[0;34m=\u001b[0m\u001b[0mmodel\u001b[0m\u001b[0;34m,\u001b[0m \u001b[0mtokenizer\u001b[0m\u001b[0;34m=\u001b[0m\u001b[0mtokenizer\u001b[0m\u001b[0;34m)\u001b[0m\u001b[0;34m\u001b[0m\u001b[0;34m\u001b[0m\u001b[0m\n\u001b[0m\u001b[1;32m      3\u001b[0m \u001b[0msummarizer\u001b[0m\u001b[0;34m(\u001b[0m\u001b[0mbook_text\u001b[0m\u001b[0;34m[\u001b[0m\u001b[0mmetadata_end_idx\u001b[0m\u001b[0;34m:\u001b[0m\u001b[0mmetadata_end_idx\u001b[0m \u001b[0;34m+\u001b[0m \u001b[0;36m3500\u001b[0m\u001b[0;34m]\u001b[0m\u001b[0;34m,\u001b[0m \u001b[0mmin_length\u001b[0m\u001b[0;34m=\u001b[0m\u001b[0;36m30\u001b[0m\u001b[0;34m,\u001b[0m \u001b[0mmax_length\u001b[0m\u001b[0;34m=\u001b[0m\u001b[0;36m130\u001b[0m\u001b[0;34m,\u001b[0m \u001b[0mdo_sample\u001b[0m\u001b[0;34m=\u001b[0m\u001b[0;32mFalse\u001b[0m\u001b[0;34m)\u001b[0m\u001b[0;34m\u001b[0m\u001b[0;34m\u001b[0m\u001b[0m\n",
      "\u001b[0;31mNameError\u001b[0m: name 'model' is not defined"
     ]
    }
   ],
   "source": [
    "from transformers import pipeline\n",
    "summarizer = pipeline(\"summarization\", model=model, tokenizer=tokenizer)\n",
    "summarizer(book_text[metadata_end_idx:metadata_end_idx + 3500], min_length=30, max_length=130, do_sample=False)"
   ]
  },
  {
   "cell_type": "code",
   "execution_count": null,
   "metadata": {},
   "outputs": [],
   "source": [
    "# parse with Beautifulsoup\n",
    "# soup = bs(self._data)\n",
    "\n",
    "        # Get listed links\n",
    "        # link_tags = soup.main.find_all(\"a\", attrs={\"class\": \"property-content\"})\n",
    "        # self._links = [link.attrs[\"href\"] for link in link_tags]\n",
    "\n",
    "        # Create webdriver object\n",
    "        driver = webdriver.Firefox()\n",
    "\n",
    "        # Wait 30 ms to navigate to the webpage\n",
    "        driver.implicitly_wait(30)\n",
    "        driver.get(self.page_url)\n",
    "\n",
    "        # When opening the url on Firefox, a pop-up window appears.\n",
    "        # Click on \"Keep browsing\" to get to the actual page.\n",
    "        python_button = driver.find_elements_by_xpath(\n",
    "            \"//button[@id='uc-btn-accept-banner']\"\n",
    "        )[0]\n",
    "        python_button.click()\n",
    "\n",
    "        # Search for all houses and apartment\n",
    "        # 1. Select \"House and apartment\" label\n",
    "        python_label_button = driver.find_elements_by_xpath(\n",
    "            \"//button[@id='propertyTypesDesktop']\"\n",
    "        )[0]\n",
    "        python_label_button.click()\n",
    "        python_house_apartment_button = driver.find_elements_by_xpath(\n",
    "            \"//li[@data-value='HOUSE,APARTMENT']\"\n",
    "        )[0]\n",
    "        python_house_apartment_button.click()\n",
    "\n",
    "        # 2. Click on search\n",
    "        python_search_button = driver.find_elements_by_xpath(\n",
    "            \"//button[@id='searchBoxSubmitButton']\"\n",
    "        )[0]\n",
    "        python_search_button.click()\n",
    "\n",
    "        # 3. Get links of houses and apartment in 5 pages\n",
    "        self._links = []\n",
    "\n",
    "        # Get links for each page\n",
    "        for _ in range(334):\n",
    "            # Initialize attempts count\n",
    "            attempts_count = 0\n",
    "            while attempts_count < 5:\n",
    "                try:\n",
    "                    links_tags = driver.find_elements_by_xpath(\"//a[@class='card__title-link']\")\n",
    "                    self._links.extend([link.get_attribute(\"href\") for link in links_tags])\n",
    "                    break\n",
    "\n",
    "                except:\n",
    "                    attempts_count += 1\n",
    "\n",
    "            # Navigate to next page\n",
    "            python_label_button = driver.find_elements_by_xpath(\n",
    "                \"//a[@class='pagination__link pagination__link--next button button--text button--size-small']\"\n",
    "            )[0]\n",
    "            python_label_button.click()\n",
    "\n",
    "\n",
    "        # print(self._links)\n",
    "        driver.close()\n",
    "\n",
    "soup.find(\"th\", text=re.compile(name, re.IGNORECASE))\n",
    "soup.select_one(\".classified__title\").text.strip().lower()\n",
    "soup.select_one('th:-soup-contains(\"area\")')\n",
    "label.next_sibling.next_sibling.contents[0].strip())\n",
    "  \n",
    "\n",
    "\n",
    "\n",
    "             \n"
   ]
  },
  {
   "cell_type": "code",
   "execution_count": 8,
   "metadata": {},
   "outputs": [],
   "source": [
    "ALLOWED_EXTENSIONS = {'txt', 'pdf'}"
   ]
  },
  {
   "cell_type": "code",
   "execution_count": 12,
   "metadata": {},
   "outputs": [
    {
     "output_type": "execute_result",
     "data": {
      "text/plain": [
       "'txt'"
      ]
     },
     "metadata": {},
     "execution_count": 12
    }
   ],
   "source": [
    "file = \"qs.az.txt\"\n",
    "# split string into list only 1 time and from the right\n",
    "file.rsplit(\".\", 1)[1]"
   ]
  },
  {
   "cell_type": "code",
   "execution_count": null,
   "metadata": {},
   "outputs": [],
   "source": []
  }
 ]
}